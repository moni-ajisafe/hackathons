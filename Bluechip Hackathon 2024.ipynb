{
 "cells": [
  {
   "cell_type": "markdown",
   "id": "12b62304",
   "metadata": {},
   "source": [
    "# Predicting Loan Creditworthiness"
   ]
  },
  {
   "cell_type": "markdown",
   "id": "32d5b478",
   "metadata": {},
   "source": [
    "The primary objective of this project is to develop an accurate classifier for predicting the creditworthiness of a borrower."
   ]
  },
  {
   "cell_type": "markdown",
   "id": "6137841a",
   "metadata": {},
   "source": [
    "In the training dataset, **Loan_Status** is the binary target"
   ]
  },
  {
   "cell_type": "markdown",
   "id": "352120fe",
   "metadata": {},
   "source": [
    "## Importing Libraries"
   ]
  },
  {
   "cell_type": "code",
   "execution_count": 16,
   "id": "debf9c08",
   "metadata": {},
   "outputs": [],
   "source": [
    "import pandas as pd\n",
    "import numpy as np\n",
    "import matplotlib.pyplot as plt"
   ]
  },
  {
   "cell_type": "markdown",
   "id": "6a7f3e36",
   "metadata": {},
   "source": [
    "## Data Exploration"
   ]
  },
  {
   "cell_type": "code",
   "execution_count": 3,
   "id": "e8da1bac",
   "metadata": {},
   "outputs": [],
   "source": [
    "train_data = pd.read_csv('Train.csv')"
   ]
  },
  {
   "cell_type": "code",
   "execution_count": 4,
   "id": "c4479539",
   "metadata": {
    "scrolled": true
   },
   "outputs": [
    {
     "data": {
      "text/html": [
       "<div>\n",
       "<style scoped>\n",
       "    .dataframe tbody tr th:only-of-type {\n",
       "        vertical-align: middle;\n",
       "    }\n",
       "\n",
       "    .dataframe tbody tr th {\n",
       "        vertical-align: top;\n",
       "    }\n",
       "\n",
       "    .dataframe thead th {\n",
       "        text-align: right;\n",
       "    }\n",
       "</style>\n",
       "<table border=\"1\" class=\"dataframe\">\n",
       "  <thead>\n",
       "    <tr style=\"text-align: right;\">\n",
       "      <th></th>\n",
       "      <th>ID</th>\n",
       "      <th>Loan_ID</th>\n",
       "      <th>Gender</th>\n",
       "      <th>Married</th>\n",
       "      <th>Dependents</th>\n",
       "      <th>Education</th>\n",
       "      <th>Self_Employed</th>\n",
       "      <th>ApplicantIncome</th>\n",
       "      <th>CoapplicantIncome</th>\n",
       "      <th>LoanAmount</th>\n",
       "      <th>Loan_Amount_Term</th>\n",
       "      <th>Credit_History</th>\n",
       "      <th>Property_Area</th>\n",
       "      <th>Loan_Status</th>\n",
       "      <th>Total_Income</th>\n",
       "    </tr>\n",
       "  </thead>\n",
       "  <tbody>\n",
       "    <tr>\n",
       "      <th>0</th>\n",
       "      <td>74768</td>\n",
       "      <td>LP002231</td>\n",
       "      <td>1</td>\n",
       "      <td>1</td>\n",
       "      <td>0</td>\n",
       "      <td>1</td>\n",
       "      <td>0</td>\n",
       "      <td>8328</td>\n",
       "      <td>0.000000</td>\n",
       "      <td>17</td>\n",
       "      <td>363</td>\n",
       "      <td>1</td>\n",
       "      <td>2</td>\n",
       "      <td>1</td>\n",
       "      <td>6000</td>\n",
       "    </tr>\n",
       "    <tr>\n",
       "      <th>1</th>\n",
       "      <td>79428</td>\n",
       "      <td>LP001448</td>\n",
       "      <td>1</td>\n",
       "      <td>1</td>\n",
       "      <td>0</td>\n",
       "      <td>0</td>\n",
       "      <td>0</td>\n",
       "      <td>150</td>\n",
       "      <td>3857.458782</td>\n",
       "      <td>188</td>\n",
       "      <td>370</td>\n",
       "      <td>1</td>\n",
       "      <td>1</td>\n",
       "      <td>0</td>\n",
       "      <td>6000</td>\n",
       "    </tr>\n",
       "    <tr>\n",
       "      <th>2</th>\n",
       "      <td>70497</td>\n",
       "      <td>LP002231</td>\n",
       "      <td>0</td>\n",
       "      <td>0</td>\n",
       "      <td>0</td>\n",
       "      <td>0</td>\n",
       "      <td>0</td>\n",
       "      <td>4989</td>\n",
       "      <td>314.472511</td>\n",
       "      <td>17</td>\n",
       "      <td>348</td>\n",
       "      <td>1</td>\n",
       "      <td>0</td>\n",
       "      <td>0</td>\n",
       "      <td>6000</td>\n",
       "    </tr>\n",
       "    <tr>\n",
       "      <th>3</th>\n",
       "      <td>87480</td>\n",
       "      <td>LP001385</td>\n",
       "      <td>1</td>\n",
       "      <td>1</td>\n",
       "      <td>0</td>\n",
       "      <td>0</td>\n",
       "      <td>0</td>\n",
       "      <td>150</td>\n",
       "      <td>0.000000</td>\n",
       "      <td>232</td>\n",
       "      <td>359</td>\n",
       "      <td>1</td>\n",
       "      <td>1</td>\n",
       "      <td>1</td>\n",
       "      <td>3750</td>\n",
       "    </tr>\n",
       "    <tr>\n",
       "      <th>4</th>\n",
       "      <td>33964</td>\n",
       "      <td>LP002231</td>\n",
       "      <td>1</td>\n",
       "      <td>1</td>\n",
       "      <td>1</td>\n",
       "      <td>0</td>\n",
       "      <td>0</td>\n",
       "      <td>8059</td>\n",
       "      <td>0.000000</td>\n",
       "      <td>17</td>\n",
       "      <td>372</td>\n",
       "      <td>1</td>\n",
       "      <td>0</td>\n",
       "      <td>1</td>\n",
       "      <td>3750</td>\n",
       "    </tr>\n",
       "  </tbody>\n",
       "</table>\n",
       "</div>"
      ],
      "text/plain": [
       "      ID   Loan_ID  Gender  Married Dependents  Education  Self_Employed  \\\n",
       "0  74768  LP002231       1        1          0          1              0   \n",
       "1  79428  LP001448       1        1          0          0              0   \n",
       "2  70497  LP002231       0        0          0          0              0   \n",
       "3  87480  LP001385       1        1          0          0              0   \n",
       "4  33964  LP002231       1        1          1          0              0   \n",
       "\n",
       "   ApplicantIncome  CoapplicantIncome  LoanAmount  Loan_Amount_Term  \\\n",
       "0             8328           0.000000          17               363   \n",
       "1              150        3857.458782         188               370   \n",
       "2             4989         314.472511          17               348   \n",
       "3              150           0.000000         232               359   \n",
       "4             8059           0.000000          17               372   \n",
       "\n",
       "   Credit_History  Property_Area  Loan_Status  Total_Income  \n",
       "0               1              2            1          6000  \n",
       "1               1              1            0          6000  \n",
       "2               1              0            0          6000  \n",
       "3               1              1            1          3750  \n",
       "4               1              0            1          3750  "
      ]
     },
     "execution_count": 4,
     "metadata": {},
     "output_type": "execute_result"
    }
   ],
   "source": [
    "train_data.head()"
   ]
  },
  {
   "cell_type": "code",
   "execution_count": 18,
   "id": "ee5016a8",
   "metadata": {},
   "outputs": [
    {
     "data": {
      "text/plain": [
       "(5898, 15)"
      ]
     },
     "execution_count": 18,
     "metadata": {},
     "output_type": "execute_result"
    }
   ],
   "source": [
    "train_data.shape"
   ]
  },
  {
   "cell_type": "code",
   "execution_count": 192,
   "id": "86e303f9",
   "metadata": {},
   "outputs": [],
   "source": [
    "test_data = pd.read_csv('Test.csv')"
   ]
  },
  {
   "cell_type": "code",
   "execution_count": 193,
   "id": "f396771d",
   "metadata": {},
   "outputs": [
    {
     "data": {
      "text/html": [
       "<div>\n",
       "<style scoped>\n",
       "    .dataframe tbody tr th:only-of-type {\n",
       "        vertical-align: middle;\n",
       "    }\n",
       "\n",
       "    .dataframe tbody tr th {\n",
       "        vertical-align: top;\n",
       "    }\n",
       "\n",
       "    .dataframe thead th {\n",
       "        text-align: right;\n",
       "    }\n",
       "</style>\n",
       "<table border=\"1\" class=\"dataframe\">\n",
       "  <thead>\n",
       "    <tr style=\"text-align: right;\">\n",
       "      <th></th>\n",
       "      <th>ID</th>\n",
       "      <th>Loan_ID</th>\n",
       "      <th>Gender</th>\n",
       "      <th>Married</th>\n",
       "      <th>Dependents</th>\n",
       "      <th>Education</th>\n",
       "      <th>Self_Employed</th>\n",
       "      <th>ApplicantIncome</th>\n",
       "      <th>CoapplicantIncome</th>\n",
       "      <th>LoanAmount</th>\n",
       "      <th>Loan_Amount_Term</th>\n",
       "      <th>Credit_History</th>\n",
       "      <th>Property_Area</th>\n",
       "      <th>Total_Income</th>\n",
       "    </tr>\n",
       "  </thead>\n",
       "  <tbody>\n",
       "    <tr>\n",
       "      <th>0</th>\n",
       "      <td>70607</td>\n",
       "      <td>LP002560</td>\n",
       "      <td>1</td>\n",
       "      <td>1</td>\n",
       "      <td>0</td>\n",
       "      <td>1</td>\n",
       "      <td>0</td>\n",
       "      <td>15890</td>\n",
       "      <td>871.075952</td>\n",
       "      <td>188</td>\n",
       "      <td>371</td>\n",
       "      <td>1</td>\n",
       "      <td>1</td>\n",
       "      <td>6000</td>\n",
       "    </tr>\n",
       "    <tr>\n",
       "      <th>1</th>\n",
       "      <td>58412</td>\n",
       "      <td>LP001379</td>\n",
       "      <td>1</td>\n",
       "      <td>1</td>\n",
       "      <td>0</td>\n",
       "      <td>0</td>\n",
       "      <td>1</td>\n",
       "      <td>6582</td>\n",
       "      <td>896.718887</td>\n",
       "      <td>17</td>\n",
       "      <td>373</td>\n",
       "      <td>0</td>\n",
       "      <td>1</td>\n",
       "      <td>6000</td>\n",
       "    </tr>\n",
       "    <tr>\n",
       "      <th>2</th>\n",
       "      <td>88755</td>\n",
       "      <td>LP002560</td>\n",
       "      <td>0</td>\n",
       "      <td>0</td>\n",
       "      <td>0</td>\n",
       "      <td>0</td>\n",
       "      <td>0</td>\n",
       "      <td>7869</td>\n",
       "      <td>572.900354</td>\n",
       "      <td>17</td>\n",
       "      <td>373</td>\n",
       "      <td>1</td>\n",
       "      <td>1</td>\n",
       "      <td>6000</td>\n",
       "    </tr>\n",
       "    <tr>\n",
       "      <th>3</th>\n",
       "      <td>97271</td>\n",
       "      <td>LP002560</td>\n",
       "      <td>1</td>\n",
       "      <td>1</td>\n",
       "      <td>0</td>\n",
       "      <td>0</td>\n",
       "      <td>0</td>\n",
       "      <td>150</td>\n",
       "      <td>0.000000</td>\n",
       "      <td>247</td>\n",
       "      <td>349</td>\n",
       "      <td>1</td>\n",
       "      <td>2</td>\n",
       "      <td>6000</td>\n",
       "    </tr>\n",
       "    <tr>\n",
       "      <th>4</th>\n",
       "      <td>70478</td>\n",
       "      <td>LP002231</td>\n",
       "      <td>1</td>\n",
       "      <td>1</td>\n",
       "      <td>0</td>\n",
       "      <td>0</td>\n",
       "      <td>0</td>\n",
       "      <td>8362</td>\n",
       "      <td>0.000000</td>\n",
       "      <td>17</td>\n",
       "      <td>12</td>\n",
       "      <td>1</td>\n",
       "      <td>2</td>\n",
       "      <td>3750</td>\n",
       "    </tr>\n",
       "  </tbody>\n",
       "</table>\n",
       "</div>"
      ],
      "text/plain": [
       "      ID   Loan_ID  Gender  Married Dependents  Education  Self_Employed  \\\n",
       "0  70607  LP002560       1        1          0          1              0   \n",
       "1  58412  LP001379       1        1          0          0              1   \n",
       "2  88755  LP002560       0        0          0          0              0   \n",
       "3  97271  LP002560       1        1          0          0              0   \n",
       "4  70478  LP002231       1        1          0          0              0   \n",
       "\n",
       "   ApplicantIncome  CoapplicantIncome  LoanAmount  Loan_Amount_Term  \\\n",
       "0            15890         871.075952         188               371   \n",
       "1             6582         896.718887          17               373   \n",
       "2             7869         572.900354          17               373   \n",
       "3              150           0.000000         247               349   \n",
       "4             8362           0.000000          17                12   \n",
       "\n",
       "   Credit_History  Property_Area  Total_Income  \n",
       "0               1              1          6000  \n",
       "1               0              1          6000  \n",
       "2               1              1          6000  \n",
       "3               1              2          6000  \n",
       "4               1              2          3750  "
      ]
     },
     "execution_count": 193,
     "metadata": {},
     "output_type": "execute_result"
    }
   ],
   "source": [
    "test_data.head()"
   ]
  },
  {
   "cell_type": "code",
   "execution_count": 19,
   "id": "e0d06ab6",
   "metadata": {},
   "outputs": [
    {
     "data": {
      "text/plain": [
       "(2528, 14)"
      ]
     },
     "execution_count": 19,
     "metadata": {},
     "output_type": "execute_result"
    }
   ],
   "source": [
    "test_data.shape"
   ]
  },
  {
   "cell_type": "code",
   "execution_count": 5,
   "id": "89661110",
   "metadata": {},
   "outputs": [
    {
     "data": {
      "text/html": [
       "<div>\n",
       "<style scoped>\n",
       "    .dataframe tbody tr th:only-of-type {\n",
       "        vertical-align: middle;\n",
       "    }\n",
       "\n",
       "    .dataframe tbody tr th {\n",
       "        vertical-align: top;\n",
       "    }\n",
       "\n",
       "    .dataframe thead th {\n",
       "        text-align: right;\n",
       "    }\n",
       "</style>\n",
       "<table border=\"1\" class=\"dataframe\">\n",
       "  <thead>\n",
       "    <tr style=\"text-align: right;\">\n",
       "      <th></th>\n",
       "      <th>ID: Unique ID for each observation</th>\n",
       "    </tr>\n",
       "  </thead>\n",
       "  <tbody>\n",
       "    <tr>\n",
       "      <th>0</th>\n",
       "      <td>Loan_ID: A unique loan ID.</td>\n",
       "    </tr>\n",
       "    <tr>\n",
       "      <th>1</th>\n",
       "      <td>Gender: Either male or female.</td>\n",
       "    </tr>\n",
       "    <tr>\n",
       "      <th>2</th>\n",
       "      <td>Married: Weather Married(yes) or Not Marttied(No).</td>\n",
       "    </tr>\n",
       "    <tr>\n",
       "      <th>3</th>\n",
       "      <td>Dependents: Number of persons depending on the client.</td>\n",
       "    </tr>\n",
       "    <tr>\n",
       "      <th>4</th>\n",
       "      <td>Education: Applicant Education(Graduate or Undergraduate).</td>\n",
       "    </tr>\n",
       "    <tr>\n",
       "      <th>5</th>\n",
       "      <td>Self_Employed: Self-employed (Yes/No).</td>\n",
       "    </tr>\n",
       "    <tr>\n",
       "      <th>6</th>\n",
       "      <td>ApplicantIncome: Applicant income.</td>\n",
       "    </tr>\n",
       "    <tr>\n",
       "      <th>7</th>\n",
       "      <td>CoapplicantIncome: Co-applicant income.</td>\n",
       "    </tr>\n",
       "    <tr>\n",
       "      <th>8</th>\n",
       "      <td>LoanAmount: Loan amount in thousands.</td>\n",
       "    </tr>\n",
       "    <tr>\n",
       "      <th>9</th>\n",
       "      <td>Loan_Amount_Term: Terms of the loan in months.</td>\n",
       "    </tr>\n",
       "    <tr>\n",
       "      <th>10</th>\n",
       "      <td>Credit_History: Credit history meets guidelines.</td>\n",
       "    </tr>\n",
       "    <tr>\n",
       "      <th>11</th>\n",
       "      <td>Property_Area: Applicants are living either Urban, Semi-Urban or Rural.</td>\n",
       "    </tr>\n",
       "    <tr>\n",
       "      <th>12</th>\n",
       "      <td>Loan_Status: Loan approved (Y/N).</td>\n",
       "    </tr>\n",
       "  </tbody>\n",
       "</table>\n",
       "</div>"
      ],
      "text/plain": [
       "                                         ID: Unique ID for each observation\n",
       "0                                                Loan_ID: A unique loan ID.\n",
       "1                                            Gender: Either male or female.\n",
       "2                        Married: Weather Married(yes) or Not Marttied(No).\n",
       "3                    Dependents: Number of persons depending on the client.\n",
       "4                Education: Applicant Education(Graduate or Undergraduate).\n",
       "5                                    Self_Employed: Self-employed (Yes/No).\n",
       "6                                        ApplicantIncome: Applicant income.\n",
       "7                                   CoapplicantIncome: Co-applicant income.\n",
       "8                                     LoanAmount: Loan amount in thousands.\n",
       "9                            Loan_Amount_Term: Terms of the loan in months.\n",
       "10                         Credit_History: Credit history meets guidelines.\n",
       "11  Property_Area: Applicants are living either Urban, Semi-Urban or Rural.\n",
       "12                                        Loan_Status: Loan approved (Y/N)."
      ]
     },
     "execution_count": 5,
     "metadata": {},
     "output_type": "execute_result"
    }
   ],
   "source": [
    "#checking the data description\n",
    "pd.options.display.max_colwidth = 100\n",
    "feature_des = pd.read_excel('Variable_def.xlsx')\n",
    "feature_des"
   ]
  },
  {
   "cell_type": "markdown",
   "id": "b08913c9",
   "metadata": {},
   "source": [
    "# Data Quality issue 1"
   ]
  },
  {
   "cell_type": "markdown",
   "id": "750f9bcf",
   "metadata": {},
   "source": [
    "Feature description is not given for **Total_Income**"
   ]
  },
  {
   "cell_type": "markdown",
   "id": "67ac21ed",
   "metadata": {},
   "source": [
    "Total income may be assumed to be the addition of **ApplicantIncome** and **CoapplicantIncome** but on further inspection..."
   ]
  },
  {
   "cell_type": "code",
   "execution_count": 9,
   "id": "663849aa",
   "metadata": {},
   "outputs": [],
   "source": [
    "train_data_income = train_data[['ApplicantIncome', 'CoapplicantIncome', 'Total_Income']].copy()"
   ]
  },
  {
   "cell_type": "code",
   "execution_count": 12,
   "id": "54120501",
   "metadata": {},
   "outputs": [],
   "source": [
    "train_data_income ['Applicant + Coapplicant Income'] = train_data_income['ApplicantIncome'] + train_data_income['CoapplicantIncome']"
   ]
  },
  {
   "cell_type": "code",
   "execution_count": 14,
   "id": "3a58f7e9",
   "metadata": {},
   "outputs": [
    {
     "data": {
      "text/html": [
       "<div>\n",
       "<style scoped>\n",
       "    .dataframe tbody tr th:only-of-type {\n",
       "        vertical-align: middle;\n",
       "    }\n",
       "\n",
       "    .dataframe tbody tr th {\n",
       "        vertical-align: top;\n",
       "    }\n",
       "\n",
       "    .dataframe thead th {\n",
       "        text-align: right;\n",
       "    }\n",
       "</style>\n",
       "<table border=\"1\" class=\"dataframe\">\n",
       "  <thead>\n",
       "    <tr style=\"text-align: right;\">\n",
       "      <th></th>\n",
       "      <th>ApplicantIncome</th>\n",
       "      <th>CoapplicantIncome</th>\n",
       "      <th>Total_Income</th>\n",
       "      <th>Applicant + Coapplicant Income</th>\n",
       "    </tr>\n",
       "  </thead>\n",
       "  <tbody>\n",
       "    <tr>\n",
       "      <th>0</th>\n",
       "      <td>8328</td>\n",
       "      <td>0.000000</td>\n",
       "      <td>6000</td>\n",
       "      <td>8328.000000</td>\n",
       "    </tr>\n",
       "    <tr>\n",
       "      <th>1</th>\n",
       "      <td>150</td>\n",
       "      <td>3857.458782</td>\n",
       "      <td>6000</td>\n",
       "      <td>4007.458782</td>\n",
       "    </tr>\n",
       "    <tr>\n",
       "      <th>2</th>\n",
       "      <td>4989</td>\n",
       "      <td>314.472511</td>\n",
       "      <td>6000</td>\n",
       "      <td>5303.472511</td>\n",
       "    </tr>\n",
       "    <tr>\n",
       "      <th>3</th>\n",
       "      <td>150</td>\n",
       "      <td>0.000000</td>\n",
       "      <td>3750</td>\n",
       "      <td>150.000000</td>\n",
       "    </tr>\n",
       "    <tr>\n",
       "      <th>4</th>\n",
       "      <td>8059</td>\n",
       "      <td>0.000000</td>\n",
       "      <td>3750</td>\n",
       "      <td>8059.000000</td>\n",
       "    </tr>\n",
       "    <tr>\n",
       "      <th>...</th>\n",
       "      <td>...</td>\n",
       "      <td>...</td>\n",
       "      <td>...</td>\n",
       "      <td>...</td>\n",
       "    </tr>\n",
       "    <tr>\n",
       "      <th>5893</th>\n",
       "      <td>1297</td>\n",
       "      <td>3293.124489</td>\n",
       "      <td>3750</td>\n",
       "      <td>4590.124489</td>\n",
       "    </tr>\n",
       "    <tr>\n",
       "      <th>5894</th>\n",
       "      <td>7358</td>\n",
       "      <td>0.000000</td>\n",
       "      <td>3547</td>\n",
       "      <td>7358.000000</td>\n",
       "    </tr>\n",
       "    <tr>\n",
       "      <th>5895</th>\n",
       "      <td>150</td>\n",
       "      <td>0.000000</td>\n",
       "      <td>3750</td>\n",
       "      <td>150.000000</td>\n",
       "    </tr>\n",
       "    <tr>\n",
       "      <th>5896</th>\n",
       "      <td>2230</td>\n",
       "      <td>0.000000</td>\n",
       "      <td>3750</td>\n",
       "      <td>2230.000000</td>\n",
       "    </tr>\n",
       "    <tr>\n",
       "      <th>5897</th>\n",
       "      <td>150</td>\n",
       "      <td>0.000000</td>\n",
       "      <td>3547</td>\n",
       "      <td>150.000000</td>\n",
       "    </tr>\n",
       "  </tbody>\n",
       "</table>\n",
       "<p>5898 rows × 4 columns</p>\n",
       "</div>"
      ],
      "text/plain": [
       "      ApplicantIncome  CoapplicantIncome  Total_Income  \\\n",
       "0                8328           0.000000          6000   \n",
       "1                 150        3857.458782          6000   \n",
       "2                4989         314.472511          6000   \n",
       "3                 150           0.000000          3750   \n",
       "4                8059           0.000000          3750   \n",
       "...               ...                ...           ...   \n",
       "5893             1297        3293.124489          3750   \n",
       "5894             7358           0.000000          3547   \n",
       "5895              150           0.000000          3750   \n",
       "5896             2230           0.000000          3750   \n",
       "5897              150           0.000000          3547   \n",
       "\n",
       "      Applicant + Coapplicant Income  \n",
       "0                        8328.000000  \n",
       "1                        4007.458782  \n",
       "2                        5303.472511  \n",
       "3                         150.000000  \n",
       "4                        8059.000000  \n",
       "...                              ...  \n",
       "5893                     4590.124489  \n",
       "5894                     7358.000000  \n",
       "5895                      150.000000  \n",
       "5896                     2230.000000  \n",
       "5897                      150.000000  \n",
       "\n",
       "[5898 rows x 4 columns]"
      ]
     },
     "execution_count": 14,
     "metadata": {},
     "output_type": "execute_result"
    }
   ],
   "source": [
    "train_data_income"
   ]
  },
  {
   "cell_type": "markdown",
   "id": "ad940af3",
   "metadata": {},
   "source": [
    "Inspecting the data shows that that is not the case."
   ]
  },
  {
   "cell_type": "code",
   "execution_count": 21,
   "id": "f790672b",
   "metadata": {},
   "outputs": [
    {
     "data": {
      "text/plain": [
       "CoapplicantIncome\n",
       "0.000000        0.466090\n",
       "20000.000000    0.005086\n",
       "3391.175054     0.000170\n",
       "557.097981      0.000170\n",
       "484.404624      0.000170\n",
       "                  ...   \n",
       "1706.136926     0.000170\n",
       "462.283710      0.000170\n",
       "629.696687      0.000170\n",
       "593.647556      0.000170\n",
       "3293.124489     0.000170\n",
       "Name: proportion, Length: 3121, dtype: float64"
      ]
     },
     "execution_count": 21,
     "metadata": {},
     "output_type": "execute_result"
    }
   ],
   "source": [
    "train_data.CoapplicantIncome.value_counts(normalize=True)"
   ]
  },
  {
   "cell_type": "code",
   "execution_count": 17,
   "id": "45387b65",
   "metadata": {},
   "outputs": [
    {
     "data": {
      "text/plain": [
       "<Axes: >"
      ]
     },
     "execution_count": 17,
     "metadata": {},
     "output_type": "execute_result"
    },
    {
     "data": {
      "image/png": "[encoded data removed]",
      "text/plain": [
       "<Figure size 640x480 with 1 Axes>"
      ]
     },
     "metadata": {},
     "output_type": "display_data"
    }
   ],
   "source": [
    "train_data.CoapplicantIncome.hist()"
   ]
  },
  {
   "cell_type": "markdown",
   "id": "e7c2555d",
   "metadata": {},
   "source": [
    "**46.609%** of the **CoapplicantIncome** feature examples are zeros. This does not seem realistic. Possibly, the coapplicant income data was missing. This feature may not be valuable for prediction given the dataset."
   ]
  },
  {
   "cell_type": "markdown",
   "id": "8d4bef6b",
   "metadata": {},
   "source": [
    "## Data Quality Issue #2"
   ]
  },
  {
   "cell_type": "markdown",
   "id": "85b353da",
   "metadata": {},
   "source": [
    "We are not given the time period for the income values. Are they monthly income or yearly income values? The currency used here is also unclear."
   ]
  },
  {
   "cell_type": "code",
   "execution_count": 7,
   "id": "19263ed5",
   "metadata": {
    "scrolled": false
   },
   "outputs": [
    {
     "data": {
      "text/html": [
       "<div>\n",
       "<style scoped>\n",
       "    .dataframe tbody tr th:only-of-type {\n",
       "        vertical-align: middle;\n",
       "    }\n",
       "\n",
       "    .dataframe tbody tr th {\n",
       "        vertical-align: top;\n",
       "    }\n",
       "\n",
       "    .dataframe thead th {\n",
       "        text-align: right;\n",
       "    }\n",
       "</style>\n",
       "<table border=\"1\" class=\"dataframe\">\n",
       "  <thead>\n",
       "    <tr style=\"text-align: right;\">\n",
       "      <th></th>\n",
       "      <th>ID</th>\n",
       "      <th>Gender</th>\n",
       "      <th>Married</th>\n",
       "      <th>Education</th>\n",
       "      <th>Self_Employed</th>\n",
       "      <th>ApplicantIncome</th>\n",
       "      <th>CoapplicantIncome</th>\n",
       "      <th>LoanAmount</th>\n",
       "      <th>Loan_Amount_Term</th>\n",
       "      <th>Credit_History</th>\n",
       "      <th>Property_Area</th>\n",
       "      <th>Loan_Status</th>\n",
       "      <th>Total_Income</th>\n",
       "    </tr>\n",
       "  </thead>\n",
       "  <tbody>\n",
       "    <tr>\n",
       "      <th>count</th>\n",
       "      <td>5898.000000</td>\n",
       "      <td>5898.000000</td>\n",
       "      <td>5898.000000</td>\n",
       "      <td>5898.000000</td>\n",
       "      <td>5898.000000</td>\n",
       "      <td>5898.000000</td>\n",
       "      <td>5898.000000</td>\n",
       "      <td>5898.000000</td>\n",
       "      <td>5898.000000</td>\n",
       "      <td>5898.000000</td>\n",
       "      <td>5898.000000</td>\n",
       "      <td>5898.000000</td>\n",
       "      <td>5898.000000</td>\n",
       "    </tr>\n",
       "    <tr>\n",
       "      <th>mean</th>\n",
       "      <td>54964.183452</td>\n",
       "      <td>0.910817</td>\n",
       "      <td>0.854527</td>\n",
       "      <td>0.120210</td>\n",
       "      <td>0.107664</td>\n",
       "      <td>7782.026958</td>\n",
       "      <td>1245.954548</td>\n",
       "      <td>97.410478</td>\n",
       "      <td>359.114954</td>\n",
       "      <td>0.920482</td>\n",
       "      <td>1.183961</td>\n",
       "      <td>0.832994</td>\n",
       "      <td>5239.284503</td>\n",
       "    </tr>\n",
       "    <tr>\n",
       "      <th>std</th>\n",
       "      <td>26133.640949</td>\n",
       "      <td>0.285032</td>\n",
       "      <td>0.352607</td>\n",
       "      <td>0.325235</td>\n",
       "      <td>0.309981</td>\n",
       "      <td>9182.571831</td>\n",
       "      <td>2368.012349</td>\n",
       "      <td>103.483478</td>\n",
       "      <td>48.876088</td>\n",
       "      <td>0.270569</td>\n",
       "      <td>0.730568</td>\n",
       "      <td>0.373013</td>\n",
       "      <td>2308.679455</td>\n",
       "    </tr>\n",
       "    <tr>\n",
       "      <th>min</th>\n",
       "      <td>10002.000000</td>\n",
       "      <td>0.000000</td>\n",
       "      <td>0.000000</td>\n",
       "      <td>0.000000</td>\n",
       "      <td>0.000000</td>\n",
       "      <td>150.000000</td>\n",
       "      <td>0.000000</td>\n",
       "      <td>17.000000</td>\n",
       "      <td>12.000000</td>\n",
       "      <td>0.000000</td>\n",
       "      <td>0.000000</td>\n",
       "      <td>0.000000</td>\n",
       "      <td>1963.000000</td>\n",
       "    </tr>\n",
       "    <tr>\n",
       "      <th>25%</th>\n",
       "      <td>32337.000000</td>\n",
       "      <td>1.000000</td>\n",
       "      <td>1.000000</td>\n",
       "      <td>0.000000</td>\n",
       "      <td>0.000000</td>\n",
       "      <td>2342.250000</td>\n",
       "      <td>0.000000</td>\n",
       "      <td>17.000000</td>\n",
       "      <td>357.000000</td>\n",
       "      <td>1.000000</td>\n",
       "      <td>1.000000</td>\n",
       "      <td>1.000000</td>\n",
       "      <td>3750.000000</td>\n",
       "    </tr>\n",
       "    <tr>\n",
       "      <th>50%</th>\n",
       "      <td>55501.000000</td>\n",
       "      <td>1.000000</td>\n",
       "      <td>1.000000</td>\n",
       "      <td>0.000000</td>\n",
       "      <td>0.000000</td>\n",
       "      <td>6989.000000</td>\n",
       "      <td>117.562275</td>\n",
       "      <td>42.000000</td>\n",
       "      <td>368.000000</td>\n",
       "      <td>1.000000</td>\n",
       "      <td>1.000000</td>\n",
       "      <td>1.000000</td>\n",
       "      <td>6000.000000</td>\n",
       "    </tr>\n",
       "    <tr>\n",
       "      <th>75%</th>\n",
       "      <td>77775.750000</td>\n",
       "      <td>1.000000</td>\n",
       "      <td>1.000000</td>\n",
       "      <td>0.000000</td>\n",
       "      <td>0.000000</td>\n",
       "      <td>8375.000000</td>\n",
       "      <td>1680.894542</td>\n",
       "      <td>174.000000</td>\n",
       "      <td>372.000000</td>\n",
       "      <td>1.000000</td>\n",
       "      <td>2.000000</td>\n",
       "      <td>1.000000</td>\n",
       "      <td>6000.000000</td>\n",
       "    </tr>\n",
       "    <tr>\n",
       "      <th>max</th>\n",
       "      <td>99998.000000</td>\n",
       "      <td>1.000000</td>\n",
       "      <td>1.000000</td>\n",
       "      <td>1.000000</td>\n",
       "      <td>1.000000</td>\n",
       "      <td>81000.000000</td>\n",
       "      <td>20000.000000</td>\n",
       "      <td>700.000000</td>\n",
       "      <td>480.000000</td>\n",
       "      <td>1.000000</td>\n",
       "      <td>2.000000</td>\n",
       "      <td>1.000000</td>\n",
       "      <td>22500.000000</td>\n",
       "    </tr>\n",
       "  </tbody>\n",
       "</table>\n",
       "</div>"
      ],
      "text/plain": [
       "                 ID       Gender      Married    Education  Self_Employed  \\\n",
       "count   5898.000000  5898.000000  5898.000000  5898.000000    5898.000000   \n",
       "mean   54964.183452     0.910817     0.854527     0.120210       0.107664   \n",
       "std    26133.640949     0.285032     0.352607     0.325235       0.309981   \n",
       "min    10002.000000     0.000000     0.000000     0.000000       0.000000   \n",
       "25%    32337.000000     1.000000     1.000000     0.000000       0.000000   \n",
       "50%    55501.000000     1.000000     1.000000     0.000000       0.000000   \n",
       "75%    77775.750000     1.000000     1.000000     0.000000       0.000000   \n",
       "max    99998.000000     1.000000     1.000000     1.000000       1.000000   \n",
       "\n",
       "       ApplicantIncome  CoapplicantIncome   LoanAmount  Loan_Amount_Term  \\\n",
       "count      5898.000000        5898.000000  5898.000000       5898.000000   \n",
       "mean       7782.026958        1245.954548    97.410478        359.114954   \n",
       "std        9182.571831        2368.012349   103.483478         48.876088   \n",
       "min         150.000000           0.000000    17.000000         12.000000   \n",
       "25%        2342.250000           0.000000    17.000000        357.000000   \n",
       "50%        6989.000000         117.562275    42.000000        368.000000   \n",
       "75%        8375.000000        1680.894542   174.000000        372.000000   \n",
       "max       81000.000000       20000.000000   700.000000        480.000000   \n",
       "\n",
       "       Credit_History  Property_Area  Loan_Status  Total_Income  \n",
       "count     5898.000000    5898.000000  5898.000000   5898.000000  \n",
       "mean         0.920482       1.183961     0.832994   5239.284503  \n",
       "std          0.270569       0.730568     0.373013   2308.679455  \n",
       "min          0.000000       0.000000     0.000000   1963.000000  \n",
       "25%          1.000000       1.000000     1.000000   3750.000000  \n",
       "50%          1.000000       1.000000     1.000000   6000.000000  \n",
       "75%          1.000000       2.000000     1.000000   6000.000000  \n",
       "max          1.000000       2.000000     1.000000  22500.000000  "
      ]
     },
     "execution_count": 7,
     "metadata": {},
     "output_type": "execute_result"
    }
   ],
   "source": [
    "train_data.describe()"
   ]
  },
  {
   "cell_type": "markdown",
   "id": "f08e706a",
   "metadata": {},
   "source": [
    "Based on the range of values, let us assume the income values represent monthly income."
   ]
  },
  {
   "cell_type": "code",
   "execution_count": 24,
   "id": "b282e836",
   "metadata": {},
   "outputs": [
    {
     "data": {
      "text/plain": [
       "ID                   0\n",
       "Loan_ID              0\n",
       "Gender               0\n",
       "Married              0\n",
       "Dependents           0\n",
       "Education            0\n",
       "Self_Employed        0\n",
       "ApplicantIncome      0\n",
       "CoapplicantIncome    0\n",
       "LoanAmount           0\n",
       "Loan_Amount_Term     0\n",
       "Credit_History       0\n",
       "Property_Area        0\n",
       "Loan_Status          0\n",
       "Total_Income         0\n",
       "dtype: int64"
      ]
     },
     "execution_count": 24,
     "metadata": {},
     "output_type": "execute_result"
    }
   ],
   "source": [
    "#checking for null values\n",
    "train_data.isnull().sum()"
   ]
  },
  {
   "cell_type": "code",
   "execution_count": 25,
   "id": "1f7bf356",
   "metadata": {},
   "outputs": [
    {
     "data": {
      "text/plain": [
       "ID                     int64\n",
       "Loan_ID               object\n",
       "Gender                 int64\n",
       "Married                int64\n",
       "Dependents            object\n",
       "Education              int64\n",
       "Self_Employed          int64\n",
       "ApplicantIncome        int64\n",
       "CoapplicantIncome    float64\n",
       "LoanAmount             int64\n",
       "Loan_Amount_Term       int64\n",
       "Credit_History         int64\n",
       "Property_Area          int64\n",
       "Loan_Status            int64\n",
       "Total_Income           int64\n",
       "dtype: object"
      ]
     },
     "execution_count": 25,
     "metadata": {},
     "output_type": "execute_result"
    }
   ],
   "source": [
    "#checking column data types\n",
    "train_data.dtypes"
   ]
  },
  {
   "cell_type": "code",
   "execution_count": 26,
   "id": "dd5074c1",
   "metadata": {},
   "outputs": [
    {
     "data": {
      "text/plain": [
       "array(['0', '1', '3+', '2'], dtype=object)"
      ]
     },
     "execution_count": 26,
     "metadata": {},
     "output_type": "execute_result"
    }
   ],
   "source": [
    "train_data['Dependents'].unique()"
   ]
  },
  {
   "cell_type": "code",
   "execution_count": 27,
   "id": "2e5b0047",
   "metadata": {},
   "outputs": [],
   "source": [
    "#converting the 'Dependents' column to an integer data type\n",
    "\n",
    "mapping = {'0': 0, '1': 1, '2': 2, '3+': 3}  \n",
    "train_data['Dependents'] = train_data['Dependents'].map(mapping)\n",
    "\n",
    "train_data['Dependents'] = train_data['Dependents'].astype(int)"
   ]
  },
  {
   "cell_type": "code",
   "execution_count": 28,
   "id": "49a3eb17",
   "metadata": {
    "scrolled": true
   },
   "outputs": [
    {
     "data": {
      "text/plain": [
       "dtype('int32')"
      ]
     },
     "execution_count": 28,
     "metadata": {},
     "output_type": "execute_result"
    }
   ],
   "source": [
    "#confirming that 'Dependents' is an int column\n",
    "train_data['Dependents'].dtype"
   ]
  },
  {
   "cell_type": "code",
   "execution_count": 18,
   "id": "4c44f153",
   "metadata": {},
   "outputs": [
    {
     "data": {
      "text/html": [
       "<div>\n",
       "<style scoped>\n",
       "    .dataframe tbody tr th:only-of-type {\n",
       "        vertical-align: middle;\n",
       "    }\n",
       "\n",
       "    .dataframe tbody tr th {\n",
       "        vertical-align: top;\n",
       "    }\n",
       "\n",
       "    .dataframe thead th {\n",
       "        text-align: right;\n",
       "    }\n",
       "</style>\n",
       "<table border=\"1\" class=\"dataframe\">\n",
       "  <thead>\n",
       "    <tr style=\"text-align: right;\">\n",
       "      <th></th>\n",
       "      <th>Gender</th>\n",
       "      <th>Married</th>\n",
       "      <th>Dependents</th>\n",
       "      <th>Education</th>\n",
       "      <th>Self_Employed</th>\n",
       "      <th>ApplicantIncome</th>\n",
       "      <th>CoapplicantIncome</th>\n",
       "      <th>LoanAmount</th>\n",
       "      <th>Loan_Amount_Term</th>\n",
       "      <th>Credit_History</th>\n",
       "      <th>Property_Area</th>\n",
       "      <th>Loan_Status</th>\n",
       "      <th>Total_Income</th>\n",
       "    </tr>\n",
       "  </thead>\n",
       "  <tbody>\n",
       "    <tr>\n",
       "      <th>Gender</th>\n",
       "      <td>1.000000</td>\n",
       "      <td>-0.012686</td>\n",
       "      <td>0.012046</td>\n",
       "      <td>-0.001407</td>\n",
       "      <td>-0.010305</td>\n",
       "      <td>0.013562</td>\n",
       "      <td>0.013122</td>\n",
       "      <td>0.026877</td>\n",
       "      <td>0.007966</td>\n",
       "      <td>0.015773</td>\n",
       "      <td>-0.011594</td>\n",
       "      <td>-0.004538</td>\n",
       "      <td>0.019216</td>\n",
       "    </tr>\n",
       "    <tr>\n",
       "      <th>Married</th>\n",
       "      <td>-0.012686</td>\n",
       "      <td>1.000000</td>\n",
       "      <td>-0.010514</td>\n",
       "      <td>0.001686</td>\n",
       "      <td>-0.021138</td>\n",
       "      <td>0.013194</td>\n",
       "      <td>0.012071</td>\n",
       "      <td>0.003101</td>\n",
       "      <td>0.013585</td>\n",
       "      <td>0.004929</td>\n",
       "      <td>-0.002740</td>\n",
       "      <td>-0.008111</td>\n",
       "      <td>-0.018581</td>\n",
       "    </tr>\n",
       "    <tr>\n",
       "      <th>Dependents</th>\n",
       "      <td>0.012046</td>\n",
       "      <td>-0.010514</td>\n",
       "      <td>1.000000</td>\n",
       "      <td>0.035143</td>\n",
       "      <td>0.020438</td>\n",
       "      <td>-0.020666</td>\n",
       "      <td>0.015731</td>\n",
       "      <td>0.047651</td>\n",
       "      <td>0.010268</td>\n",
       "      <td>-0.014370</td>\n",
       "      <td>0.001803</td>\n",
       "      <td>-0.021859</td>\n",
       "      <td>-0.025854</td>\n",
       "    </tr>\n",
       "    <tr>\n",
       "      <th>Education</th>\n",
       "      <td>-0.001407</td>\n",
       "      <td>0.001686</td>\n",
       "      <td>0.035143</td>\n",
       "      <td>1.000000</td>\n",
       "      <td>-0.019063</td>\n",
       "      <td>0.002542</td>\n",
       "      <td>-0.012205</td>\n",
       "      <td>0.012848</td>\n",
       "      <td>-0.013553</td>\n",
       "      <td>0.004584</td>\n",
       "      <td>0.008972</td>\n",
       "      <td>-0.010613</td>\n",
       "      <td>0.013011</td>\n",
       "    </tr>\n",
       "    <tr>\n",
       "      <th>Self_Employed</th>\n",
       "      <td>-0.010305</td>\n",
       "      <td>-0.021138</td>\n",
       "      <td>0.020438</td>\n",
       "      <td>-0.019063</td>\n",
       "      <td>1.000000</td>\n",
       "      <td>-0.018426</td>\n",
       "      <td>-0.009861</td>\n",
       "      <td>0.018494</td>\n",
       "      <td>0.018278</td>\n",
       "      <td>0.005043</td>\n",
       "      <td>0.007627</td>\n",
       "      <td>0.005938</td>\n",
       "      <td>0.007816</td>\n",
       "    </tr>\n",
       "    <tr>\n",
       "      <th>ApplicantIncome</th>\n",
       "      <td>0.013562</td>\n",
       "      <td>0.013194</td>\n",
       "      <td>-0.020666</td>\n",
       "      <td>0.002542</td>\n",
       "      <td>-0.018426</td>\n",
       "      <td>1.000000</td>\n",
       "      <td>-0.001494</td>\n",
       "      <td>-0.141103</td>\n",
       "      <td>-0.042263</td>\n",
       "      <td>-0.004328</td>\n",
       "      <td>0.017171</td>\n",
       "      <td>-0.009189</td>\n",
       "      <td>-0.001889</td>\n",
       "    </tr>\n",
       "    <tr>\n",
       "      <th>CoapplicantIncome</th>\n",
       "      <td>0.013122</td>\n",
       "      <td>0.012071</td>\n",
       "      <td>0.015731</td>\n",
       "      <td>-0.012205</td>\n",
       "      <td>-0.009861</td>\n",
       "      <td>-0.001494</td>\n",
       "      <td>1.000000</td>\n",
       "      <td>0.021509</td>\n",
       "      <td>0.032594</td>\n",
       "      <td>-0.000494</td>\n",
       "      <td>0.034120</td>\n",
       "      <td>-0.007058</td>\n",
       "      <td>0.005806</td>\n",
       "    </tr>\n",
       "    <tr>\n",
       "      <th>LoanAmount</th>\n",
       "      <td>0.026877</td>\n",
       "      <td>0.003101</td>\n",
       "      <td>0.047651</td>\n",
       "      <td>0.012848</td>\n",
       "      <td>0.018494</td>\n",
       "      <td>-0.141103</td>\n",
       "      <td>0.021509</td>\n",
       "      <td>1.000000</td>\n",
       "      <td>0.052457</td>\n",
       "      <td>-0.006786</td>\n",
       "      <td>-0.006239</td>\n",
       "      <td>0.014613</td>\n",
       "      <td>-0.022152</td>\n",
       "    </tr>\n",
       "    <tr>\n",
       "      <th>Loan_Amount_Term</th>\n",
       "      <td>0.007966</td>\n",
       "      <td>0.013585</td>\n",
       "      <td>0.010268</td>\n",
       "      <td>-0.013553</td>\n",
       "      <td>0.018278</td>\n",
       "      <td>-0.042263</td>\n",
       "      <td>0.032594</td>\n",
       "      <td>0.052457</td>\n",
       "      <td>1.000000</td>\n",
       "      <td>0.014579</td>\n",
       "      <td>-0.007070</td>\n",
       "      <td>0.008299</td>\n",
       "      <td>-0.011980</td>\n",
       "    </tr>\n",
       "    <tr>\n",
       "      <th>Credit_History</th>\n",
       "      <td>0.015773</td>\n",
       "      <td>0.004929</td>\n",
       "      <td>-0.014370</td>\n",
       "      <td>0.004584</td>\n",
       "      <td>0.005043</td>\n",
       "      <td>-0.004328</td>\n",
       "      <td>-0.000494</td>\n",
       "      <td>-0.006786</td>\n",
       "      <td>0.014579</td>\n",
       "      <td>1.000000</td>\n",
       "      <td>-0.004051</td>\n",
       "      <td>0.001133</td>\n",
       "      <td>0.004930</td>\n",
       "    </tr>\n",
       "    <tr>\n",
       "      <th>Property_Area</th>\n",
       "      <td>-0.011594</td>\n",
       "      <td>-0.002740</td>\n",
       "      <td>0.001803</td>\n",
       "      <td>0.008972</td>\n",
       "      <td>0.007627</td>\n",
       "      <td>0.017171</td>\n",
       "      <td>0.034120</td>\n",
       "      <td>-0.006239</td>\n",
       "      <td>-0.007070</td>\n",
       "      <td>-0.004051</td>\n",
       "      <td>1.000000</td>\n",
       "      <td>0.026883</td>\n",
       "      <td>0.018795</td>\n",
       "    </tr>\n",
       "    <tr>\n",
       "      <th>Loan_Status</th>\n",
       "      <td>-0.004538</td>\n",
       "      <td>-0.008111</td>\n",
       "      <td>-0.021859</td>\n",
       "      <td>-0.010613</td>\n",
       "      <td>0.005938</td>\n",
       "      <td>-0.009189</td>\n",
       "      <td>-0.007058</td>\n",
       "      <td>0.014613</td>\n",
       "      <td>0.008299</td>\n",
       "      <td>0.001133</td>\n",
       "      <td>0.026883</td>\n",
       "      <td>1.000000</td>\n",
       "      <td>-0.004700</td>\n",
       "    </tr>\n",
       "    <tr>\n",
       "      <th>Total_Income</th>\n",
       "      <td>0.019216</td>\n",
       "      <td>-0.018581</td>\n",
       "      <td>-0.025854</td>\n",
       "      <td>0.013011</td>\n",
       "      <td>0.007816</td>\n",
       "      <td>-0.001889</td>\n",
       "      <td>0.005806</td>\n",
       "      <td>-0.022152</td>\n",
       "      <td>-0.011980</td>\n",
       "      <td>0.004930</td>\n",
       "      <td>0.018795</td>\n",
       "      <td>-0.004700</td>\n",
       "      <td>1.000000</td>\n",
       "    </tr>\n",
       "  </tbody>\n",
       "</table>\n",
       "</div>"
      ],
      "text/plain": [
       "                     Gender   Married  Dependents  Education  Self_Employed  \\\n",
       "Gender             1.000000 -0.012686    0.012046  -0.001407      -0.010305   \n",
       "Married           -0.012686  1.000000   -0.010514   0.001686      -0.021138   \n",
       "Dependents         0.012046 -0.010514    1.000000   0.035143       0.020438   \n",
       "Education         -0.001407  0.001686    0.035143   1.000000      -0.019063   \n",
       "Self_Employed     -0.010305 -0.021138    0.020438  -0.019063       1.000000   \n",
       "ApplicantIncome    0.013562  0.013194   -0.020666   0.002542      -0.018426   \n",
       "CoapplicantIncome  0.013122  0.012071    0.015731  -0.012205      -0.009861   \n",
       "LoanAmount         0.026877  0.003101    0.047651   0.012848       0.018494   \n",
       "Loan_Amount_Term   0.007966  0.013585    0.010268  -0.013553       0.018278   \n",
       "Credit_History     0.015773  0.004929   -0.014370   0.004584       0.005043   \n",
       "Property_Area     -0.011594 -0.002740    0.001803   0.008972       0.007627   \n",
       "Loan_Status       -0.004538 -0.008111   -0.021859  -0.010613       0.005938   \n",
       "Total_Income       0.019216 -0.018581   -0.025854   0.013011       0.007816   \n",
       "\n",
       "                   ApplicantIncome  CoapplicantIncome  LoanAmount  \\\n",
       "Gender                    0.013562           0.013122    0.026877   \n",
       "Married                   0.013194           0.012071    0.003101   \n",
       "Dependents               -0.020666           0.015731    0.047651   \n",
       "Education                 0.002542          -0.012205    0.012848   \n",
       "Self_Employed            -0.018426          -0.009861    0.018494   \n",
       "ApplicantIncome           1.000000          -0.001494   -0.141103   \n",
       "CoapplicantIncome        -0.001494           1.000000    0.021509   \n",
       "LoanAmount               -0.141103           0.021509    1.000000   \n",
       "Loan_Amount_Term         -0.042263           0.032594    0.052457   \n",
       "Credit_History           -0.004328          -0.000494   -0.006786   \n",
       "Property_Area             0.017171           0.034120   -0.006239   \n",
       "Loan_Status              -0.009189          -0.007058    0.014613   \n",
       "Total_Income             -0.001889           0.005806   -0.022152   \n",
       "\n",
       "                   Loan_Amount_Term  Credit_History  Property_Area  \\\n",
       "Gender                     0.007966        0.015773      -0.011594   \n",
       "Married                    0.013585        0.004929      -0.002740   \n",
       "Dependents                 0.010268       -0.014370       0.001803   \n",
       "Education                 -0.013553        0.004584       0.008972   \n",
       "Self_Employed              0.018278        0.005043       0.007627   \n",
       "ApplicantIncome           -0.042263       -0.004328       0.017171   \n",
       "CoapplicantIncome          0.032594       -0.000494       0.034120   \n",
       "LoanAmount                 0.052457       -0.006786      -0.006239   \n",
       "Loan_Amount_Term           1.000000        0.014579      -0.007070   \n",
       "Credit_History             0.014579        1.000000      -0.004051   \n",
       "Property_Area             -0.007070       -0.004051       1.000000   \n",
       "Loan_Status                0.008299        0.001133       0.026883   \n",
       "Total_Income              -0.011980        0.004930       0.018795   \n",
       "\n",
       "                   Loan_Status  Total_Income  \n",
       "Gender               -0.004538      0.019216  \n",
       "Married              -0.008111     -0.018581  \n",
       "Dependents           -0.021859     -0.025854  \n",
       "Education            -0.010613      0.013011  \n",
       "Self_Employed         0.005938      0.007816  \n",
       "ApplicantIncome      -0.009189     -0.001889  \n",
       "CoapplicantIncome    -0.007058      0.005806  \n",
       "LoanAmount            0.014613     -0.022152  \n",
       "Loan_Amount_Term      0.008299     -0.011980  \n",
       "Credit_History        0.001133      0.004930  \n",
       "Property_Area         0.026883      0.018795  \n",
       "Loan_Status           1.000000     -0.004700  \n",
       "Total_Income         -0.004700      1.000000  "
      ]
     },
     "execution_count": 18,
     "metadata": {},
     "output_type": "execute_result"
    }
   ],
   "source": [
    "train_data.drop(['ID', 'Loan_ID'], axis=1).corr()"
   ]
  },
  {
   "cell_type": "code",
   "execution_count": 31,
   "id": "a0435386",
   "metadata": {},
   "outputs": [
    {
     "data": {
      "text/plain": [
       "<Axes: >"
      ]
     },
     "execution_count": 31,
     "metadata": {},
     "output_type": "execute_result"
    },
    {
     "data": {
      "image/png": "[encoded data removed]",
      "text/plain": [
       "<Figure size 640x480 with 2 Axes>"
      ]
     },
     "metadata": {},
     "output_type": "display_data"
    }
   ],
   "source": [
    "import seaborn as sns\n",
    "#%matplotlib inline\n",
    "\n",
    "# calculate the correlation matrix on the numeric columns\n",
    "corr = train_data.select_dtypes('number').corr()\n",
    "\n",
    "# plot the heatmap\n",
    "sns.heatmap(corr)"
   ]
  },
  {
   "cell_type": "markdown",
   "id": "530c6b2d",
   "metadata": {},
   "source": [
    "There is very low corellation among the features and in particular, none of the features are strongly corellated with the target variable, Loan_Status."
   ]
  },
  {
   "cell_type": "markdown",
   "id": "64aa41b1",
   "metadata": {},
   "source": [
    "## Building a Logistic Regression model"
   ]
  },
  {
   "cell_type": "markdown",
   "id": "25a93b50",
   "metadata": {},
   "source": [
    "### Sigmoid function"
   ]
  },
  {
   "cell_type": "code",
   "execution_count": 69,
   "id": "25f3b679",
   "metadata": {},
   "outputs": [],
   "source": [
    "from scipy.special import expit\n",
    "\n",
    "def sigmoid(z):\n",
    "    #sig = 1 / (1 + np.exp(-z))\n",
    "    sig = expit(z)\n",
    "    \n",
    "    return sig"
   ]
  },
  {
   "cell_type": "code",
   "execution_count": 70,
   "id": "de17a1b4",
   "metadata": {},
   "outputs": [
    {
     "data": {
      "text/plain": [
       "0.5"
      ]
     },
     "execution_count": 70,
     "metadata": {},
     "output_type": "execute_result"
    }
   ],
   "source": [
    "sigmoid(0)"
   ]
  },
  {
   "cell_type": "code",
   "execution_count": 65,
   "id": "63f86e7a",
   "metadata": {},
   "outputs": [],
   "source": [
    "def compute_cost(X, y, w, b, lambda_=1):\n",
    "    \n",
    "    cost = 0\n",
    "    reg_cost = 0\n",
    "    m, n = X.shape\n",
    "    \n",
    "    for i in range(m):\n",
    "        z_wb = np.dot(w, X[i]) + b\n",
    "        f_wb = sigmoid(z_wb)        \n",
    "        \n",
    "        loss_i = -y[i]*np.log(f_wb) - (1-y[i])*np.log(1-f_wb)\n",
    "        cost += loss_i\n",
    "    \n",
    "    cost /= m\n",
    "    \n",
    "    for j in range(n):\n",
    "        reg_cost += w[j]**2\n",
    "    reg_cost *= (lambda_/(2*m))\n",
    "    \n",
    "    return cost + reg_cost"
   ]
  },
  {
   "cell_type": "code",
   "execution_count": 41,
   "id": "23c858f3",
   "metadata": {},
   "outputs": [],
   "source": [
    "def compute_gradient(X, y, w, b, lambda_=1):\n",
    "    \n",
    "    dj_dw = np.zeros(w.shape)\n",
    "    dj_db = 0.\n",
    "    \n",
    "    m, n = X.shape\n",
    "    for i in range(m):\n",
    "        z_wb = np.dot(w, X[i]) + b\n",
    "        f_wb = sigmoid(z_wb)\n",
    "    \n",
    "        error = f_wb - y[i]\n",
    "        dj_db += error\n",
    "        \n",
    "        for j in range(n):\n",
    "            dj_dw += error*X[i, j]\n",
    "            \n",
    "    dj_dw[j] += lambda_ * w[j]\n",
    "            \n",
    "    dj_dw /= m\n",
    "    dj_db /= m\n",
    "    \n",
    "    return dj_dw, dj_db\n",
    "    "
   ]
  },
  {
   "cell_type": "code",
   "execution_count": 59,
   "id": "3b1939f9",
   "metadata": {},
   "outputs": [],
   "source": [
    "def gradient_descent(X, y, w_in, b_in, cost_function, gradient_function, alpha, num_iters, lambda_):\n",
    "    \n",
    "    m = X.shape[0]\n",
    "    \n",
    "    J_history = []\n",
    "    \n",
    "    for i in range(num_iters):\n",
    "        dj_dw, dj_db = gradient_function(X, y, w_in, b_in, lambda_)\n",
    "        \n",
    "        w_in -= alpha * dj_dw\n",
    "        b_in -= alpha * dj_db\n",
    "        \n",
    "        cost = cost_function(X, y, w_in, b_in, lambda_)\n",
    "        J_history.append(cost)\n",
    "        \n",
    "        if i % round(num_iters/10) == 0 or i == (num_iters -1):\n",
    "            print(f\"Iteration {i:4}: Cost {float(J_history[-1]):8.2f}\")\n",
    "            \n",
    "    return w_in, b_in, J_history"
   ]
  },
  {
   "cell_type": "code",
   "execution_count": 168,
   "id": "882e5083",
   "metadata": {},
   "outputs": [],
   "source": [
    "from sklearn.model_selection import train_test_split\n",
    "\n",
    "X = train_data.drop(['ID', 'Loan_ID', 'CoapplicantIncome','Total_Income', 'Loan_Status'], axis=1).to_numpy()\n",
    "y = train_data['Loan_Status'].to_numpy()\n",
    "\n",
    "X_train, X_valid, y_train, y_valid = train_test_split(X, y, train_size=0.8, test_size=0.2, random_state=0)"
   ]
  },
  {
   "cell_type": "code",
   "execution_count": 169,
   "id": "c6b335db",
   "metadata": {},
   "outputs": [],
   "source": [
    "from sklearn.preprocessing import StandardScaler\n",
    "scaler = StandardScaler()"
   ]
  },
  {
   "cell_type": "code",
   "execution_count": 170,
   "id": "fa33cd46",
   "metadata": {},
   "outputs": [],
   "source": [
    "X_train = scaler.fit_transform(X_train)\n",
    "X_valid = scaler.transform(X_valid)"
   ]
  },
  {
   "cell_type": "code",
   "execution_count": 171,
   "id": "c3caa9ac",
   "metadata": {},
   "outputs": [
    {
     "name": "stdout",
     "output_type": "stream",
     "text": [
      "Iteration    0: Cost     0.69\n",
      "Iteration  500: Cost     0.48\n",
      "Iteration 1000: Cost     0.45\n",
      "Iteration 1500: Cost     0.45\n",
      "Iteration 2000: Cost     0.45\n",
      "Iteration 2500: Cost     0.45\n",
      "Iteration 3000: Cost     0.45\n",
      "Iteration 3500: Cost     0.45\n",
      "Iteration 4000: Cost     0.45\n",
      "Iteration 4500: Cost     0.45\n"
     ]
    }
   ],
   "source": [
    "np.random.seed(1)\n",
    "n = X_train.shape[1]\n",
    "initial_w = np.zeros(n)\n",
    "initial_b = 0.\n",
    "\n",
    "# Some gradient descent settings\n",
    "iterations = 1000\n",
    "alpha = 0.01\n",
    "\n",
    "w,b, J_history = gradient_descent(X_train , y_train, initial_w, initial_b, \n",
    "                                   compute_cost, compute_gradient, alpha, iterations, lambda_ = 100)"
   ]
  },
  {
   "cell_type": "code",
   "execution_count": 79,
   "id": "f7e9a093",
   "metadata": {},
   "outputs": [
    {
     "data": {
      "text/plain": [
       "array([0.00265806, 0.00265806, 0.00265806, 0.00265806, 0.00265806,\n",
       "       0.00265806, 0.00265806, 0.00265806, 0.00265806, 0.00265806,\n",
       "       0.00261906])"
      ]
     },
     "execution_count": 79,
     "metadata": {},
     "output_type": "execute_result"
    }
   ],
   "source": [
    "w"
   ]
  },
  {
   "cell_type": "code",
   "execution_count": 174,
   "id": "31d7f90c",
   "metadata": {},
   "outputs": [],
   "source": [
    "def predict(X, w, b): \n",
    "\n",
    "    m, n = X.shape   \n",
    "    p = np.zeros(m)\n",
    "    \n",
    "    f_wb = []\n",
    "\n",
    "    for i in range(m):   \n",
    "        z_wb_i = np.dot(w, X[i]) + b\n",
    "        f_wb_i = sigmoid(z_wb_i)\n",
    "        \n",
    "        f_wb.append(f_wb_i)\n",
    "\n",
    "    # Apply the threshold\n",
    "        if f_wb_i >= 0.5: \n",
    "            p[i] = 1\n",
    "        else:\n",
    "            p[i] = 0\n",
    "\n",
    "    return p, f_wb"
   ]
  },
  {
   "cell_type": "code",
   "execution_count": 175,
   "id": "1825650c",
   "metadata": {},
   "outputs": [
    {
     "name": "stdout",
     "output_type": "stream",
     "text": [
      "Train Accuracy: 83.637134\n"
     ]
    }
   ],
   "source": [
    "p, f_wb = predict(X_train, w,b)\n",
    "print('Train Accuracy: %f'%(np.mean(p == y_train) * 100))"
   ]
  },
  {
   "cell_type": "code",
   "execution_count": 176,
   "id": "cdc4dc1c",
   "metadata": {},
   "outputs": [
    {
     "data": {
      "text/html": [
       "<div>\n",
       "<style scoped>\n",
       "    .dataframe tbody tr th:only-of-type {\n",
       "        vertical-align: middle;\n",
       "    }\n",
       "\n",
       "    .dataframe tbody tr th {\n",
       "        vertical-align: top;\n",
       "    }\n",
       "\n",
       "    .dataframe thead th {\n",
       "        text-align: right;\n",
       "    }\n",
       "</style>\n",
       "<table border=\"1\" class=\"dataframe\">\n",
       "  <thead>\n",
       "    <tr style=\"text-align: right;\">\n",
       "      <th></th>\n",
       "      <th>Model output</th>\n",
       "      <th>Prediction</th>\n",
       "    </tr>\n",
       "  </thead>\n",
       "  <tbody>\n",
       "    <tr>\n",
       "      <th>0</th>\n",
       "      <td>0.838415</td>\n",
       "      <td>1.0</td>\n",
       "    </tr>\n",
       "    <tr>\n",
       "      <th>1</th>\n",
       "      <td>0.834943</td>\n",
       "      <td>1.0</td>\n",
       "    </tr>\n",
       "    <tr>\n",
       "      <th>2</th>\n",
       "      <td>0.837143</td>\n",
       "      <td>1.0</td>\n",
       "    </tr>\n",
       "    <tr>\n",
       "      <th>3</th>\n",
       "      <td>0.832336</td>\n",
       "      <td>1.0</td>\n",
       "    </tr>\n",
       "    <tr>\n",
       "      <th>4</th>\n",
       "      <td>0.838692</td>\n",
       "      <td>1.0</td>\n",
       "    </tr>\n",
       "    <tr>\n",
       "      <th>...</th>\n",
       "      <td>...</td>\n",
       "      <td>...</td>\n",
       "    </tr>\n",
       "    <tr>\n",
       "      <th>4713</th>\n",
       "      <td>0.837295</td>\n",
       "      <td>1.0</td>\n",
       "    </tr>\n",
       "    <tr>\n",
       "      <th>4714</th>\n",
       "      <td>0.833768</td>\n",
       "      <td>1.0</td>\n",
       "    </tr>\n",
       "    <tr>\n",
       "      <th>4715</th>\n",
       "      <td>0.832908</td>\n",
       "      <td>1.0</td>\n",
       "    </tr>\n",
       "    <tr>\n",
       "      <th>4716</th>\n",
       "      <td>0.835282</td>\n",
       "      <td>1.0</td>\n",
       "    </tr>\n",
       "    <tr>\n",
       "      <th>4717</th>\n",
       "      <td>0.832575</td>\n",
       "      <td>1.0</td>\n",
       "    </tr>\n",
       "  </tbody>\n",
       "</table>\n",
       "<p>4718 rows × 2 columns</p>\n",
       "</div>"
      ],
      "text/plain": [
       "      Model output  Prediction\n",
       "0         0.838415         1.0\n",
       "1         0.834943         1.0\n",
       "2         0.837143         1.0\n",
       "3         0.832336         1.0\n",
       "4         0.838692         1.0\n",
       "...            ...         ...\n",
       "4713      0.837295         1.0\n",
       "4714      0.833768         1.0\n",
       "4715      0.832908         1.0\n",
       "4716      0.835282         1.0\n",
       "4717      0.832575         1.0\n",
       "\n",
       "[4718 rows x 2 columns]"
      ]
     },
     "execution_count": 176,
     "metadata": {},
     "output_type": "execute_result"
    }
   ],
   "source": [
    "results = pd.DataFrame({\"Model output\": f_wb, \"Prediction\": p})\n",
    "results"
   ]
  },
  {
   "cell_type": "code",
   "execution_count": 177,
   "id": "79989d5c",
   "metadata": {},
   "outputs": [
    {
     "data": {
      "text/html": [
       "<div>\n",
       "<style scoped>\n",
       "    .dataframe tbody tr th:only-of-type {\n",
       "        vertical-align: middle;\n",
       "    }\n",
       "\n",
       "    .dataframe tbody tr th {\n",
       "        vertical-align: top;\n",
       "    }\n",
       "\n",
       "    .dataframe thead th {\n",
       "        text-align: right;\n",
       "    }\n",
       "</style>\n",
       "<table border=\"1\" class=\"dataframe\">\n",
       "  <thead>\n",
       "    <tr style=\"text-align: right;\">\n",
       "      <th></th>\n",
       "      <th>Model output</th>\n",
       "      <th>Prediction</th>\n",
       "    </tr>\n",
       "  </thead>\n",
       "  <tbody>\n",
       "    <tr>\n",
       "      <th>count</th>\n",
       "      <td>4718.000000</td>\n",
       "      <td>4718.0</td>\n",
       "    </tr>\n",
       "    <tr>\n",
       "      <th>mean</th>\n",
       "      <td>0.836218</td>\n",
       "      <td>1.0</td>\n",
       "    </tr>\n",
       "    <tr>\n",
       "      <th>std</th>\n",
       "      <td>0.002395</td>\n",
       "      <td>0.0</td>\n",
       "    </tr>\n",
       "    <tr>\n",
       "      <th>min</th>\n",
       "      <td>0.823540</td>\n",
       "      <td>1.0</td>\n",
       "    </tr>\n",
       "    <tr>\n",
       "      <th>25%</th>\n",
       "      <td>0.834923</td>\n",
       "      <td>1.0</td>\n",
       "    </tr>\n",
       "    <tr>\n",
       "      <th>50%</th>\n",
       "      <td>0.836177</td>\n",
       "      <td>1.0</td>\n",
       "    </tr>\n",
       "    <tr>\n",
       "      <th>75%</th>\n",
       "      <td>0.837713</td>\n",
       "      <td>1.0</td>\n",
       "    </tr>\n",
       "    <tr>\n",
       "      <th>max</th>\n",
       "      <td>0.848436</td>\n",
       "      <td>1.0</td>\n",
       "    </tr>\n",
       "  </tbody>\n",
       "</table>\n",
       "</div>"
      ],
      "text/plain": [
       "       Model output  Prediction\n",
       "count   4718.000000      4718.0\n",
       "mean       0.836218         1.0\n",
       "std        0.002395         0.0\n",
       "min        0.823540         1.0\n",
       "25%        0.834923         1.0\n",
       "50%        0.836177         1.0\n",
       "75%        0.837713         1.0\n",
       "max        0.848436         1.0"
      ]
     },
     "execution_count": 177,
     "metadata": {},
     "output_type": "execute_result"
    }
   ],
   "source": [
    "results.describe()"
   ]
  },
  {
   "cell_type": "code",
   "execution_count": 178,
   "id": "2ca2b6fb",
   "metadata": {},
   "outputs": [
    {
     "data": {
      "text/plain": [
       "(array([2.000e+00, 0.000e+00, 6.000e+00, 7.000e+00, 2.200e+01, 6.900e+01,\n",
       "        1.080e+02, 3.640e+02, 4.750e+02, 1.147e+03, 9.950e+02, 7.860e+02,\n",
       "        4.250e+02, 1.980e+02, 7.000e+01, 2.900e+01, 1.200e+01, 2.000e+00,\n",
       "        0.000e+00, 1.000e+00]),\n",
       " array([0.82354023, 0.82478502, 0.82602981, 0.82727459, 0.82851938,\n",
       "        0.82976417, 0.83100896, 0.83225374, 0.83349853, 0.83474332,\n",
       "        0.83598811, 0.83723289, 0.83847768, 0.83972247, 0.84096726,\n",
       "        0.84221204, 0.84345683, 0.84470162, 0.84594641, 0.84719119,\n",
       "        0.84843598]),\n",
       " <BarContainer object of 20 artists>)"
      ]
     },
     "execution_count": 178,
     "metadata": {},
     "output_type": "execute_result"
    },
    {
     "data": {
      "image/png": "[encoded data removed]",
      "text/plain": [
       "<Figure size 640x480 with 1 Axes>"
      ]
     },
     "metadata": {},
     "output_type": "display_data"
    }
   ],
   "source": [
    "plt.hist(results['Model output'], edgecolor='black', bins=20)"
   ]
  },
  {
   "cell_type": "code",
   "execution_count": 179,
   "id": "4ca8d445",
   "metadata": {},
   "outputs": [
    {
     "name": "stdout",
     "output_type": "stream",
     "text": [
      "Accuracy on validation set: 81.949153\n"
     ]
    }
   ],
   "source": [
    "p, f_wb = predict(X_valid, w,b)\n",
    "print('Accuracy on validation set: %f'%(np.mean(p == y_valid) * 100))"
   ]
  },
  {
   "cell_type": "markdown",
   "id": "25c7a437",
   "metadata": {},
   "source": [
    "## Making predictions on new data"
   ]
  },
  {
   "cell_type": "code",
   "execution_count": 201,
   "id": "f5b6b8e9",
   "metadata": {},
   "outputs": [],
   "source": [
    "mapping = {'0': 0, '1': 1, '2': 2, '3+': 3}  \n",
    "test_data['Dependents'] = test_data['Dependents'].map(mapping)\n",
    "\n",
    "test_data['Dependents'] = test_data['Dependents'].fillna(0).astype(int)"
   ]
  },
  {
   "cell_type": "code",
   "execution_count": 202,
   "id": "4e94f519",
   "metadata": {},
   "outputs": [],
   "source": [
    "test_2 = test_data.drop(['ID', 'Loan_ID', 'CoapplicantIncome','Total_Income'], axis=1)"
   ]
  },
  {
   "cell_type": "code",
   "execution_count": 203,
   "id": "119950dd",
   "metadata": {},
   "outputs": [],
   "source": [
    "test_2 = test_2.to_numpy()"
   ]
  },
  {
   "cell_type": "code",
   "execution_count": 204,
   "id": "45483fc8",
   "metadata": {},
   "outputs": [
    {
     "data": {
      "text/plain": [
       "array([[ 0.31260177,  0.41879129, -0.66873168, ...,  0.24264242,\n",
       "         0.29214075, -0.24680027],\n",
       "       [ 0.31260177,  0.41879129, -0.66873168, ...,  0.28389452,\n",
       "        -3.42300761, -0.24680027],\n",
       "       [-3.19895816, -2.38782423, -0.66873168, ...,  0.28389452,\n",
       "         0.29214075, -0.24680027],\n",
       "       ...,\n",
       "       [ 0.31260177,  0.41879129, -0.66873168, ..., -0.23175669,\n",
       "         0.29214075,  1.12469994],\n",
       "       [ 0.31260177,  0.41879129, -0.66873168, ..., -0.1905046 ,\n",
       "        -3.42300761, -0.24680027],\n",
       "       [-3.19895816,  0.41879129, -0.66873168, ...,  0.26326847,\n",
       "         0.29214075, -0.24680027]])"
      ]
     },
     "execution_count": 204,
     "metadata": {},
     "output_type": "execute_result"
    }
   ],
   "source": [
    "scaler.transform(test_2)"
   ]
  },
  {
   "cell_type": "code",
   "execution_count": 205,
   "id": "ce8ab0f5",
   "metadata": {},
   "outputs": [],
   "source": [
    "predictions, _ = predict(test_2, w, b)"
   ]
  },
  {
   "cell_type": "code",
   "execution_count": 206,
   "id": "1a497199",
   "metadata": {},
   "outputs": [],
   "source": [
    "output = pd.DataFrame({'ID': test_data.ID, 'TARGET': predictions})\n",
    "output.to_csv('submission_a.csv', index=False)"
   ]
  },
  {
   "cell_type": "code",
   "execution_count": null,
   "id": "de6db724",
   "metadata": {},
   "outputs": [],
   "source": []
  }
 ],
 "metadata": {
  "kernelspec": {
   "display_name": "Python 3 (ipykernel)",
   "language": "python",
   "name": "python3"
  },
  "language_info": {
   "codemirror_mode": {
    "name": "ipython",
    "version": 3
   },
   "file_extension": ".py",
   "mimetype": "text/x-python",
   "name": "python",
   "nbconvert_exporter": "python",
   "pygments_lexer": "ipython3",
   "version": "3.11.5"
  }
 },
 "nbformat": 4,
 "nbformat_minor": 5
}
